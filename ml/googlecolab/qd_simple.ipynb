{
  "nbformat": 4,
  "nbformat_minor": 0,
  "metadata": {
    "colab": {
      "name": "ml003_qd_simple.ipynb",
      "provenance": [],
      "collapsed_sections": [],
      "machine_shape": "hm"
    },
    "kernelspec": {
      "name": "python3",
      "display_name": "Python 3"
    },
    "accelerator": "GPU"
  },
  "cells": [
    {
      "cell_type": "code",
      "metadata": {
        "id": "Mvj0d_Je0lGE",
        "colab_type": "code",
        "colab": {}
      },
      "source": [
        "%tensorflow_version 2.x"
      ],
      "execution_count": 0,
      "outputs": []
    },
    {
      "cell_type": "code",
      "metadata": {
        "id": "FWYHvlBT0t1b",
        "colab_type": "code",
        "colab": {}
      },
      "source": [
        "import tensorflow as tf\n",
        "import tensorflow.keras as keras\n",
        "import numpy as np"
      ],
      "execution_count": 0,
      "outputs": []
    },
    {
      "cell_type": "code",
      "metadata": {
        "id": "2f9puudVLIfQ",
        "colab_type": "code",
        "outputId": "c9844070-2d0a-4299-ea74-d8312a6a29e2",
        "colab": {
          "base_uri": "https://localhost:8080/",
          "height": 34
        }
      },
      "source": [
        "physical_devices = tf.config.list_physical_devices('GPU') \n",
        "if len(physical_devices) <= 0:\n",
        "  raise ValueError(\"No GPU detected!\")\n",
        "print(\"Num GPUs:\", len(physical_devices))"
      ],
      "execution_count": 3,
      "outputs": [
        {
          "output_type": "stream",
          "text": [
            "Num GPUs: 1\n"
          ],
          "name": "stdout"
        }
      ]
    },
    {
      "cell_type": "code",
      "metadata": {
        "id": "SSah39YColTM",
        "colab_type": "code",
        "outputId": "39d0fbb8-f3dc-4e4d-8ee8-ce0c24ee7a1a",
        "colab": {
          "base_uri": "https://localhost:8080/",
          "height": 34
        }
      },
      "source": [
        "classes = [\"ant\", \"fish\", \"tree\", \"bee\", \"sun\", \"star\", \"clock\", \"flower\", \"car\", \"cactus\"]\n",
        "print(len(classes))"
      ],
      "execution_count": 4,
      "outputs": [
        {
          "output_type": "stream",
          "text": [
            "10\n"
          ],
          "name": "stdout"
        }
      ]
    },
    {
      "cell_type": "code",
      "metadata": {
        "id": "kmyLl6OpoYuc",
        "colab_type": "code",
        "colab": {}
      },
      "source": [
        "import urllib.request\n",
        "def download(classes):\n",
        "  \n",
        "  base = 'https://storage.googleapis.com/quickdraw_dataset/full/numpy_bitmap/'\n",
        "  for c in classes:\n",
        "    cls_url = c.replace('_', '%20')\n",
        "    path = base+cls_url+'.npy'\n",
        "    print(path)\n",
        "    urllib.request.urlretrieve(path, c+'.npy')"
      ],
      "execution_count": 0,
      "outputs": []
    },
    {
      "cell_type": "code",
      "metadata": {
        "id": "M9dL01E3sWfB",
        "colab_type": "code",
        "outputId": "1f9c5bbf-5215-4dee-fd9e-55d5559dffc2",
        "colab": {
          "base_uri": "https://localhost:8080/",
          "height": 187
        }
      },
      "source": [
        "download(classes)"
      ],
      "execution_count": 6,
      "outputs": [
        {
          "output_type": "stream",
          "text": [
            "https://storage.googleapis.com/quickdraw_dataset/full/numpy_bitmap/ant.npy\n",
            "https://storage.googleapis.com/quickdraw_dataset/full/numpy_bitmap/fish.npy\n",
            "https://storage.googleapis.com/quickdraw_dataset/full/numpy_bitmap/tree.npy\n",
            "https://storage.googleapis.com/quickdraw_dataset/full/numpy_bitmap/bee.npy\n",
            "https://storage.googleapis.com/quickdraw_dataset/full/numpy_bitmap/sun.npy\n",
            "https://storage.googleapis.com/quickdraw_dataset/full/numpy_bitmap/star.npy\n",
            "https://storage.googleapis.com/quickdraw_dataset/full/numpy_bitmap/clock.npy\n",
            "https://storage.googleapis.com/quickdraw_dataset/full/numpy_bitmap/flower.npy\n",
            "https://storage.googleapis.com/quickdraw_dataset/full/numpy_bitmap/car.npy\n",
            "https://storage.googleapis.com/quickdraw_dataset/full/numpy_bitmap/cactus.npy\n"
          ],
          "name": "stdout"
        }
      ]
    },
    {
      "cell_type": "code",
      "metadata": {
        "id": "_vS0mqEDs7PE",
        "colab_type": "code",
        "outputId": "bcf66afd-0565-44b8-d429-c8f6f672e4d5",
        "colab": {
          "base_uri": "https://localhost:8080/",
          "height": 51
        }
      },
      "source": [
        "import os\n",
        "import glob\n",
        "import numpy as np\n",
        "\n",
        "all_files = glob.glob('*.npy')\n",
        "\n",
        "features = np.empty([0, 784])\n",
        "labels = np.empty([0])\n",
        "class_names = []\n",
        "\n",
        "print(all_files)\n",
        "data_per_class = 50000\n",
        "\n",
        "for i, file in enumerate(all_files):\n",
        "  data = np.load(file)\n",
        "  data = data[0: data_per_class, :]\n",
        "  labels_array = np.full(data.shape[0], i)\n",
        "\n",
        "  features = np.concatenate((features, data), axis=0)\n",
        "  labels = np.append(labels, labels_array)\n",
        "\n",
        "  class_name, ext = os.path.splitext(os.path.basename(file))\n",
        "  class_names.append(class_name)\n",
        "\n",
        "data = None\n",
        "labels_array = None\n",
        "\n",
        "print(class_names)"
      ],
      "execution_count": 7,
      "outputs": [
        {
          "output_type": "stream",
          "text": [
            "['car.npy', 'tree.npy', 'flower.npy', 'fish.npy', 'ant.npy', 'clock.npy', 'bee.npy', 'sun.npy', 'star.npy', 'cactus.npy']\n",
            "['car', 'tree', 'flower', 'fish', 'ant', 'clock', 'bee', 'sun', 'star', 'cactus']\n"
          ],
          "name": "stdout"
        }
      ]
    },
    {
      "cell_type": "code",
      "metadata": {
        "id": "BcrSp2ZJxALd",
        "colab_type": "code",
        "colab": {}
      },
      "source": [
        "from sklearn.utils import shuffle\n",
        "from sklearn.model_selection import train_test_split"
      ],
      "execution_count": 0,
      "outputs": []
    },
    {
      "cell_type": "code",
      "metadata": {
        "id": "g5doDqSRxHq2",
        "colab_type": "code",
        "outputId": "91ae5b4b-da18-4366-9a04-db487b0cdc2f",
        "colab": {
          "base_uri": "https://localhost:8080/",
          "height": 34
        }
      },
      "source": [
        "features, labels = shuffle(features, labels)\n",
        "\n",
        "train_features, test_features, train_labels, test_labels = train_test_split(features, labels, random_state=0, test_size=0.1)\n",
        "\n",
        "train_features = train_features.reshape(train_features.shape[0], 28, 28, 1).astype('float32')\n",
        "test_features = test_features.reshape(test_features.shape[0], 28, 28, 1).astype('float32')\n",
        "\n",
        "train_features = train_features / 255.0\n",
        "test_features = test_features / 255.0\n",
        "\n",
        "\n",
        "train_labels = keras.utils.to_categorical(train_labels, 10)\n",
        "test_labels = keras.utils.to_categorical(test_labels, 10)\n",
        "\n",
        "print(train_features.shape)"
      ],
      "execution_count": 9,
      "outputs": [
        {
          "output_type": "stream",
          "text": [
            "(450000, 28, 28, 1)\n"
          ],
          "name": "stdout"
        }
      ]
    },
    {
      "cell_type": "code",
      "metadata": {
        "id": "h85znYbNzJDN",
        "colab_type": "code",
        "colab": {}
      },
      "source": [
        "model = keras.models.Sequential([\n",
        "                                  keras.layers.Conv2D(32, (5,5), input_shape=(28, 28, 1), activation='relu'),\n",
        "                                  keras.layers.Conv2D(32, (5, 5), activation='relu'),\n",
        "                                  keras.layers.MaxPooling2D(pool_size=(2, 2), strides=(2, 2), padding='same'),\n",
        "                                  keras.layers.Dropout(0.25),\n",
        "                                  \n",
        "                                  keras.layers.MaxPooling2D(pool_size=(2, 2), strides=(2, 2), padding='same'),\n",
        "                                  keras.layers.Conv2D(64, (5, 5), activation='relu'),\n",
        "                                  keras.layers.MaxPooling2D(pool_size=(2, 2), strides=(2, 2), padding='same'),\n",
        "\n",
        "                                  keras.layers.Flatten(),\n",
        "                                  keras.layers.Dense(512, activation='relu'),\n",
        "                                  keras.layers.Dropout(0.5),\n",
        "                                  keras.layers.Dense(128, activation='relu'),\n",
        "                                  keras.layers.Dropout(0.5),\n",
        "                                  keras.layers.Dense(10, activation='softmax'),\n",
        "\n",
        "])"
      ],
      "execution_count": 0,
      "outputs": []
    },
    {
      "cell_type": "code",
      "metadata": {
        "id": "0GVeoKV5036O",
        "colab_type": "code",
        "colab": {}
      },
      "source": [
        "model.compile(loss='categorical_crossentropy', optimizer='Adam', metrics=['accuracy'])"
      ],
      "execution_count": 0,
      "outputs": []
    },
    {
      "cell_type": "code",
      "metadata": {
        "id": "mnuPWBAN0_DO",
        "colab_type": "code",
        "outputId": "5e5f7ede-a705-4f90-e695-7d16ce46ec49",
        "colab": {
          "base_uri": "https://localhost:8080/",
          "height": 1000
        }
      },
      "source": [
        "model.fit(train_features, train_labels, validation_data=(test_features, test_labels), epochs=50, batch_size=64)"
      ],
      "execution_count": 12,
      "outputs": [
        {
          "output_type": "stream",
          "text": [
            "Epoch 1/50\n",
            "7032/7032 [==============================] - 27s 4ms/step - loss: 0.3436 - accuracy: 0.8982 - val_loss: 0.1962 - val_accuracy: 0.9408\n",
            "Epoch 2/50\n",
            "7032/7032 [==============================] - 27s 4ms/step - loss: 0.2207 - accuracy: 0.9363 - val_loss: 0.1773 - val_accuracy: 0.9474\n",
            "Epoch 3/50\n",
            "7032/7032 [==============================] - 27s 4ms/step - loss: 0.1960 - accuracy: 0.9435 - val_loss: 0.1762 - val_accuracy: 0.9483\n",
            "Epoch 4/50\n",
            "7032/7032 [==============================] - 27s 4ms/step - loss: 0.1834 - accuracy: 0.9469 - val_loss: 0.1598 - val_accuracy: 0.9523\n",
            "Epoch 5/50\n",
            "7032/7032 [==============================] - 27s 4ms/step - loss: 0.1750 - accuracy: 0.9497 - val_loss: 0.1511 - val_accuracy: 0.9541\n",
            "Epoch 6/50\n",
            "7032/7032 [==============================] - 26s 4ms/step - loss: 0.1686 - accuracy: 0.9515 - val_loss: 0.1518 - val_accuracy: 0.9550\n",
            "Epoch 7/50\n",
            "7032/7032 [==============================] - 27s 4ms/step - loss: 0.1638 - accuracy: 0.9525 - val_loss: 0.1510 - val_accuracy: 0.9560\n",
            "Epoch 8/50\n",
            "7032/7032 [==============================] - 27s 4ms/step - loss: 0.1608 - accuracy: 0.9540 - val_loss: 0.1479 - val_accuracy: 0.9574\n",
            "Epoch 9/50\n",
            "7032/7032 [==============================] - 27s 4ms/step - loss: 0.1565 - accuracy: 0.9549 - val_loss: 0.1505 - val_accuracy: 0.9555\n",
            "Epoch 10/50\n",
            "7032/7032 [==============================] - 27s 4ms/step - loss: 0.1546 - accuracy: 0.9555 - val_loss: 0.1466 - val_accuracy: 0.9563\n",
            "Epoch 11/50\n",
            "7032/7032 [==============================] - 27s 4ms/step - loss: 0.1521 - accuracy: 0.9563 - val_loss: 0.1500 - val_accuracy: 0.9559\n",
            "Epoch 12/50\n",
            "7032/7032 [==============================] - 27s 4ms/step - loss: 0.1501 - accuracy: 0.9570 - val_loss: 0.1534 - val_accuracy: 0.9546\n",
            "Epoch 13/50\n",
            "7032/7032 [==============================] - 27s 4ms/step - loss: 0.1488 - accuracy: 0.9571 - val_loss: 0.1453 - val_accuracy: 0.9576\n",
            "Epoch 14/50\n",
            "7032/7032 [==============================] - 27s 4ms/step - loss: 0.1469 - accuracy: 0.9578 - val_loss: 0.1423 - val_accuracy: 0.9591\n",
            "Epoch 15/50\n",
            "7032/7032 [==============================] - 27s 4ms/step - loss: 0.1452 - accuracy: 0.9584 - val_loss: 0.1413 - val_accuracy: 0.9590\n",
            "Epoch 16/50\n",
            "7032/7032 [==============================] - 27s 4ms/step - loss: 0.1455 - accuracy: 0.9584 - val_loss: 0.1484 - val_accuracy: 0.9573\n",
            "Epoch 17/50\n",
            "7032/7032 [==============================] - 27s 4ms/step - loss: 0.1429 - accuracy: 0.9592 - val_loss: 0.1463 - val_accuracy: 0.9582\n",
            "Epoch 18/50\n",
            "7032/7032 [==============================] - 27s 4ms/step - loss: 0.1432 - accuracy: 0.9591 - val_loss: 0.1507 - val_accuracy: 0.9565\n",
            "Epoch 19/50\n",
            "7032/7032 [==============================] - 27s 4ms/step - loss: 0.1423 - accuracy: 0.9592 - val_loss: 0.1446 - val_accuracy: 0.9581\n",
            "Epoch 20/50\n",
            "7032/7032 [==============================] - 27s 4ms/step - loss: 0.1405 - accuracy: 0.9598 - val_loss: 0.1421 - val_accuracy: 0.9596\n",
            "Epoch 21/50\n",
            "7032/7032 [==============================] - 27s 4ms/step - loss: 0.1407 - accuracy: 0.9600 - val_loss: 0.1483 - val_accuracy: 0.9571\n",
            "Epoch 22/50\n",
            "7032/7032 [==============================] - 27s 4ms/step - loss: 0.1396 - accuracy: 0.9600 - val_loss: 0.1498 - val_accuracy: 0.9567\n",
            "Epoch 23/50\n",
            "7032/7032 [==============================] - 27s 4ms/step - loss: 0.1399 - accuracy: 0.9601 - val_loss: 0.1458 - val_accuracy: 0.9586\n",
            "Epoch 24/50\n",
            "7032/7032 [==============================] - 26s 4ms/step - loss: 0.1379 - accuracy: 0.9607 - val_loss: 0.1478 - val_accuracy: 0.9584\n",
            "Epoch 25/50\n",
            "7032/7032 [==============================] - 26s 4ms/step - loss: 0.1388 - accuracy: 0.9605 - val_loss: 0.1464 - val_accuracy: 0.9589\n",
            "Epoch 26/50\n",
            "7032/7032 [==============================] - 27s 4ms/step - loss: 0.1381 - accuracy: 0.9609 - val_loss: 0.1448 - val_accuracy: 0.9596\n",
            "Epoch 27/50\n",
            "7032/7032 [==============================] - 27s 4ms/step - loss: 0.1380 - accuracy: 0.9606 - val_loss: 0.1435 - val_accuracy: 0.9591\n",
            "Epoch 28/50\n",
            "7032/7032 [==============================] - 26s 4ms/step - loss: 0.1378 - accuracy: 0.9608 - val_loss: 0.1426 - val_accuracy: 0.9597\n",
            "Epoch 29/50\n",
            "7032/7032 [==============================] - 27s 4ms/step - loss: 0.1370 - accuracy: 0.9612 - val_loss: 0.1462 - val_accuracy: 0.9595\n",
            "Epoch 30/50\n",
            "7032/7032 [==============================] - 26s 4ms/step - loss: 0.1373 - accuracy: 0.9612 - val_loss: 0.1478 - val_accuracy: 0.9588\n",
            "Epoch 31/50\n",
            "7032/7032 [==============================] - 26s 4ms/step - loss: 0.1361 - accuracy: 0.9613 - val_loss: 0.1481 - val_accuracy: 0.9589\n",
            "Epoch 32/50\n",
            "7032/7032 [==============================] - 26s 4ms/step - loss: 0.1362 - accuracy: 0.9617 - val_loss: 0.1463 - val_accuracy: 0.9586\n",
            "Epoch 33/50\n",
            "7032/7032 [==============================] - 26s 4ms/step - loss: 0.1367 - accuracy: 0.9614 - val_loss: 0.1456 - val_accuracy: 0.9594\n",
            "Epoch 34/50\n",
            "7032/7032 [==============================] - 26s 4ms/step - loss: 0.1365 - accuracy: 0.9617 - val_loss: 0.1525 - val_accuracy: 0.9575\n",
            "Epoch 35/50\n",
            "7032/7032 [==============================] - 26s 4ms/step - loss: 0.1345 - accuracy: 0.9619 - val_loss: 0.1457 - val_accuracy: 0.9593\n",
            "Epoch 36/50\n",
            "7032/7032 [==============================] - 26s 4ms/step - loss: 0.1361 - accuracy: 0.9619 - val_loss: 0.1510 - val_accuracy: 0.9575\n",
            "Epoch 37/50\n",
            "7032/7032 [==============================] - 26s 4ms/step - loss: 0.1359 - accuracy: 0.9617 - val_loss: 0.1479 - val_accuracy: 0.9591\n",
            "Epoch 38/50\n",
            "7032/7032 [==============================] - 26s 4ms/step - loss: 0.1354 - accuracy: 0.9622 - val_loss: 0.1451 - val_accuracy: 0.9595\n",
            "Epoch 39/50\n",
            "7032/7032 [==============================] - 27s 4ms/step - loss: 0.1353 - accuracy: 0.9621 - val_loss: 0.1518 - val_accuracy: 0.9589\n",
            "Epoch 40/50\n",
            "7032/7032 [==============================] - 26s 4ms/step - loss: 0.1360 - accuracy: 0.9619 - val_loss: 0.1534 - val_accuracy: 0.9577\n",
            "Epoch 41/50\n",
            "7032/7032 [==============================] - 26s 4ms/step - loss: 0.1361 - accuracy: 0.9621 - val_loss: 0.1510 - val_accuracy: 0.9590\n",
            "Epoch 42/50\n",
            "7032/7032 [==============================] - 26s 4ms/step - loss: 0.1360 - accuracy: 0.9623 - val_loss: 0.1487 - val_accuracy: 0.9595\n",
            "Epoch 43/50\n",
            "7032/7032 [==============================] - 26s 4ms/step - loss: 0.1354 - accuracy: 0.9621 - val_loss: 0.1577 - val_accuracy: 0.9589\n",
            "Epoch 44/50\n",
            "7032/7032 [==============================] - 27s 4ms/step - loss: 0.1355 - accuracy: 0.9621 - val_loss: 0.1481 - val_accuracy: 0.9593\n",
            "Epoch 45/50\n",
            "7032/7032 [==============================] - 26s 4ms/step - loss: 0.1356 - accuracy: 0.9621 - val_loss: 0.1526 - val_accuracy: 0.9571\n",
            "Epoch 46/50\n",
            "7032/7032 [==============================] - 26s 4ms/step - loss: 0.1351 - accuracy: 0.9627 - val_loss: 0.1488 - val_accuracy: 0.9597\n",
            "Epoch 47/50\n",
            "7032/7032 [==============================] - 26s 4ms/step - loss: 0.1349 - accuracy: 0.9627 - val_loss: 0.1515 - val_accuracy: 0.9588\n",
            "Epoch 48/50\n",
            "7032/7032 [==============================] - 26s 4ms/step - loss: 0.1353 - accuracy: 0.9627 - val_loss: 0.1535 - val_accuracy: 0.9573\n",
            "Epoch 49/50\n",
            "7032/7032 [==============================] - 26s 4ms/step - loss: 0.1365 - accuracy: 0.9624 - val_loss: 0.1498 - val_accuracy: 0.9591\n",
            "Epoch 50/50\n",
            "7032/7032 [==============================] - 26s 4ms/step - loss: 0.1347 - accuracy: 0.9629 - val_loss: 0.1533 - val_accuracy: 0.9585\n"
          ],
          "name": "stdout"
        },
        {
          "output_type": "execute_result",
          "data": {
            "text/plain": [
              "<tensorflow.python.keras.callbacks.History at 0x7f4243f5eb00>"
            ]
          },
          "metadata": {
            "tags": []
          },
          "execution_count": 12
        }
      ]
    },
    {
      "cell_type": "code",
      "metadata": {
        "id": "59EQ4x89MyhY",
        "colab_type": "code",
        "outputId": "e81f6cff-393e-4c1c-ee06-11dc742a4b42",
        "colab": {
          "base_uri": "https://localhost:8080/",
          "height": 51
        }
      },
      "source": [
        "loss, accuracy = model.evaluate(test_features, test_labels)\n",
        "print(\"loss: {}, accuracy: {}\".format(loss, accuracy))"
      ],
      "execution_count": 13,
      "outputs": [
        {
          "output_type": "stream",
          "text": [
            "1563/1563 [==============================] - 4s 2ms/step - loss: 0.1533 - accuracy: 0.9585\n",
            "loss: 0.15332891047000885, accuracy: 0.9584800004959106\n"
          ],
          "name": "stdout"
        }
      ]
    },
    {
      "cell_type": "code",
      "metadata": {
        "id": "M3M5suOINWL3",
        "colab_type": "code",
        "colab": {}
      },
      "source": [
        "model.save(\"model.h5\")"
      ],
      "execution_count": 0,
      "outputs": []
    },
    {
      "cell_type": "code",
      "metadata": {
        "id": "gPFAjxBCNZxn",
        "colab_type": "code",
        "colab": {}
      },
      "source": [
        "with open(\"classes.txt\", mode=\"w\") as f:\n",
        "  for class_name in class_names:\n",
        "    f.write(class_name)\n",
        "    f.write(\"\\n\")"
      ],
      "execution_count": 0,
      "outputs": []
    }
  ]
}