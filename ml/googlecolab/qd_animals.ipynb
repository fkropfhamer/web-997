{
  "nbformat": 4,
  "nbformat_minor": 0,
  "metadata": {
    "colab": {
      "name": "ml004_qd_animals.ipynb",
      "provenance": [],
      "collapsed_sections": []
    },
    "kernelspec": {
      "name": "python3",
      "display_name": "Python 3"
    },
    "accelerator": "GPU"
  },
  "cells": [
    {
      "cell_type": "code",
      "metadata": {
        "id": "OcmzYjHwP9So",
        "colab_type": "code",
        "colab": {}
      },
      "source": [
        "%tensorflow_version 2.x"
      ],
      "execution_count": 0,
      "outputs": []
    },
    {
      "cell_type": "code",
      "metadata": {
        "id": "uSUV5n6cBaiv",
        "colab_type": "code",
        "outputId": "b50ba33b-6c0b-4398-adc1-305870bf2030",
        "colab": {
          "base_uri": "https://localhost:8080/",
          "height": 34
        }
      },
      "source": [
        "classes = [\"ant\", \"bat\", \"bear\", \"bee\", \"bird\", \"butterfly\", \"camel\", \"cat\", \"cow\", \"crab\", \"crocodile\", \"dog\", \"dolphin\", \"duck\", \"elephant\", \"fish\", \"flamingo\", \"frog\", \"giraffe\", \"hedgehog\", \"horse\", \"kangaroo\", \"lion\", \"lobster\", \"monkey\", \"mosquito\", \"mouse\", \"octopus\", \"owl\", \"panda\", \"parrot\", \"penguin\", \"pig\", \"rabbit\", \"raccoon\", \"rhinoceros\", \"scorpion\", \"sea_turtle\", \"shark\", \"sheep\", \"snail\", \"snake\", \"spider\", \"squirrel\", \"swan\", \"tiger\", \"whale\", \"zebra\"]\n",
        "print(len(classes))"
      ],
      "execution_count": 2,
      "outputs": [
        {
          "output_type": "stream",
          "text": [
            "48\n"
          ],
          "name": "stdout"
        }
      ]
    },
    {
      "cell_type": "code",
      "metadata": {
        "id": "uM9yEtm7IhC2",
        "colab_type": "code",
        "outputId": "535e3ab0-61bc-4ef8-afaa-4d3cf075cc96",
        "colab": {
          "base_uri": "https://localhost:8080/",
          "height": 850
        }
      },
      "source": [
        "import glob\n",
        "import urllib.request\n",
        "\n",
        "\n",
        "allready_loaded_files = glob.glob('*.npy')\n",
        "print(allready_loaded_files)\n",
        "base = 'https://storage.googleapis.com/quickdraw_dataset/full/numpy_bitmap/'\n",
        "\n",
        "for c in classes:\n",
        "  filename = c + '.npy'\n",
        "  if filename not in allready_loaded_files:\n",
        "    cls_url = c.replace('_', '%20')\n",
        "    path = base+cls_url + '.npy'\n",
        "    print(path)\n",
        "    urllib.request.urlretrieve(path, filename)\n",
        "  else: \n",
        "    print(\"skipping: \", filename)\n"
      ],
      "execution_count": 3,
      "outputs": [
        {
          "output_type": "stream",
          "text": [
            "[]\n",
            "https://storage.googleapis.com/quickdraw_dataset/full/numpy_bitmap/ant.npy\n",
            "https://storage.googleapis.com/quickdraw_dataset/full/numpy_bitmap/bat.npy\n",
            "https://storage.googleapis.com/quickdraw_dataset/full/numpy_bitmap/bear.npy\n",
            "https://storage.googleapis.com/quickdraw_dataset/full/numpy_bitmap/bee.npy\n",
            "https://storage.googleapis.com/quickdraw_dataset/full/numpy_bitmap/bird.npy\n",
            "https://storage.googleapis.com/quickdraw_dataset/full/numpy_bitmap/butterfly.npy\n",
            "https://storage.googleapis.com/quickdraw_dataset/full/numpy_bitmap/camel.npy\n",
            "https://storage.googleapis.com/quickdraw_dataset/full/numpy_bitmap/cat.npy\n",
            "https://storage.googleapis.com/quickdraw_dataset/full/numpy_bitmap/cow.npy\n",
            "https://storage.googleapis.com/quickdraw_dataset/full/numpy_bitmap/crab.npy\n",
            "https://storage.googleapis.com/quickdraw_dataset/full/numpy_bitmap/crocodile.npy\n",
            "https://storage.googleapis.com/quickdraw_dataset/full/numpy_bitmap/dog.npy\n",
            "https://storage.googleapis.com/quickdraw_dataset/full/numpy_bitmap/dolphin.npy\n",
            "https://storage.googleapis.com/quickdraw_dataset/full/numpy_bitmap/duck.npy\n",
            "https://storage.googleapis.com/quickdraw_dataset/full/numpy_bitmap/elephant.npy\n",
            "https://storage.googleapis.com/quickdraw_dataset/full/numpy_bitmap/fish.npy\n",
            "https://storage.googleapis.com/quickdraw_dataset/full/numpy_bitmap/flamingo.npy\n",
            "https://storage.googleapis.com/quickdraw_dataset/full/numpy_bitmap/frog.npy\n",
            "https://storage.googleapis.com/quickdraw_dataset/full/numpy_bitmap/giraffe.npy\n",
            "https://storage.googleapis.com/quickdraw_dataset/full/numpy_bitmap/hedgehog.npy\n",
            "https://storage.googleapis.com/quickdraw_dataset/full/numpy_bitmap/horse.npy\n",
            "https://storage.googleapis.com/quickdraw_dataset/full/numpy_bitmap/kangaroo.npy\n",
            "https://storage.googleapis.com/quickdraw_dataset/full/numpy_bitmap/lion.npy\n",
            "https://storage.googleapis.com/quickdraw_dataset/full/numpy_bitmap/lobster.npy\n",
            "https://storage.googleapis.com/quickdraw_dataset/full/numpy_bitmap/monkey.npy\n",
            "https://storage.googleapis.com/quickdraw_dataset/full/numpy_bitmap/mosquito.npy\n",
            "https://storage.googleapis.com/quickdraw_dataset/full/numpy_bitmap/mouse.npy\n",
            "https://storage.googleapis.com/quickdraw_dataset/full/numpy_bitmap/octopus.npy\n",
            "https://storage.googleapis.com/quickdraw_dataset/full/numpy_bitmap/owl.npy\n",
            "https://storage.googleapis.com/quickdraw_dataset/full/numpy_bitmap/panda.npy\n",
            "https://storage.googleapis.com/quickdraw_dataset/full/numpy_bitmap/parrot.npy\n",
            "https://storage.googleapis.com/quickdraw_dataset/full/numpy_bitmap/penguin.npy\n",
            "https://storage.googleapis.com/quickdraw_dataset/full/numpy_bitmap/pig.npy\n",
            "https://storage.googleapis.com/quickdraw_dataset/full/numpy_bitmap/rabbit.npy\n",
            "https://storage.googleapis.com/quickdraw_dataset/full/numpy_bitmap/raccoon.npy\n",
            "https://storage.googleapis.com/quickdraw_dataset/full/numpy_bitmap/rhinoceros.npy\n",
            "https://storage.googleapis.com/quickdraw_dataset/full/numpy_bitmap/scorpion.npy\n",
            "https://storage.googleapis.com/quickdraw_dataset/full/numpy_bitmap/sea%20turtle.npy\n",
            "https://storage.googleapis.com/quickdraw_dataset/full/numpy_bitmap/shark.npy\n",
            "https://storage.googleapis.com/quickdraw_dataset/full/numpy_bitmap/sheep.npy\n",
            "https://storage.googleapis.com/quickdraw_dataset/full/numpy_bitmap/snail.npy\n",
            "https://storage.googleapis.com/quickdraw_dataset/full/numpy_bitmap/snake.npy\n",
            "https://storage.googleapis.com/quickdraw_dataset/full/numpy_bitmap/spider.npy\n",
            "https://storage.googleapis.com/quickdraw_dataset/full/numpy_bitmap/squirrel.npy\n",
            "https://storage.googleapis.com/quickdraw_dataset/full/numpy_bitmap/swan.npy\n",
            "https://storage.googleapis.com/quickdraw_dataset/full/numpy_bitmap/tiger.npy\n",
            "https://storage.googleapis.com/quickdraw_dataset/full/numpy_bitmap/whale.npy\n",
            "https://storage.googleapis.com/quickdraw_dataset/full/numpy_bitmap/zebra.npy\n"
          ],
          "name": "stdout"
        }
      ]
    },
    {
      "cell_type": "code",
      "metadata": {
        "id": "DB0zzkilPNo7",
        "colab_type": "code",
        "outputId": "ee84177c-e303-44c3-c9b3-343ff95227aa",
        "colab": {
          "base_uri": "https://localhost:8080/",
          "height": 71
        }
      },
      "source": [
        "import os\n",
        "import glob\n",
        "import numpy as np\n",
        "\n",
        "all_files = glob.glob('*.npy')\n",
        "\n",
        "features = np.empty([0, 784])\n",
        "labels = np.empty([0])\n",
        "class_names = []\n",
        "\n",
        "print(all_files)\n",
        "\n",
        "data_per_class = 10000\n",
        "\n",
        "for idx, file in enumerate(all_files):\n",
        "  data = np.load(file)\n",
        "  data = data[0: data_per_class, :]\n",
        "  labels_array = np.full(data.shape[0], idx)\n",
        "\n",
        "  features = np.concatenate((features, data), axis=0)\n",
        "  labels = np.append(labels, labels_array)\n",
        "\n",
        "  class_name, _ = os.path.splitext(os.path.basename(file))\n",
        "  class_names.append(class_name)\n",
        "\n",
        "print(class_names)\n",
        "num_classes = len(class_names)\n"
      ],
      "execution_count": 4,
      "outputs": [
        {
          "output_type": "stream",
          "text": [
            "['bat.npy', 'owl.npy', 'snail.npy', 'sea_turtle.npy', 'cow.npy', 'lobster.npy', 'duck.npy', 'squirrel.npy', 'elephant.npy', 'dolphin.npy', 'pig.npy', 'cat.npy', 'swan.npy', 'bear.npy', 'sheep.npy', 'tiger.npy', 'raccoon.npy', 'lion.npy', 'flamingo.npy', 'crab.npy', 'bird.npy', 'butterfly.npy', 'fish.npy', 'monkey.npy', 'shark.npy', 'spider.npy', 'ant.npy', 'bee.npy', 'snake.npy', 'rabbit.npy', 'kangaroo.npy', 'rhinoceros.npy', 'camel.npy', 'horse.npy', 'penguin.npy', 'hedgehog.npy', 'frog.npy', 'giraffe.npy', 'whale.npy', 'crocodile.npy', 'parrot.npy', 'dog.npy', 'zebra.npy', 'scorpion.npy', 'octopus.npy', 'mouse.npy', 'mosquito.npy', 'panda.npy']\n",
            "['bat', 'owl', 'snail', 'sea_turtle', 'cow', 'lobster', 'duck', 'squirrel', 'elephant', 'dolphin', 'pig', 'cat', 'swan', 'bear', 'sheep', 'tiger', 'raccoon', 'lion', 'flamingo', 'crab', 'bird', 'butterfly', 'fish', 'monkey', 'shark', 'spider', 'ant', 'bee', 'snake', 'rabbit', 'kangaroo', 'rhinoceros', 'camel', 'horse', 'penguin', 'hedgehog', 'frog', 'giraffe', 'whale', 'crocodile', 'parrot', 'dog', 'zebra', 'scorpion', 'octopus', 'mouse', 'mosquito', 'panda']\n"
          ],
          "name": "stdout"
        }
      ]
    },
    {
      "cell_type": "code",
      "metadata": {
        "id": "9sRcoseZQGYI",
        "colab_type": "code",
        "outputId": "fcc0c243-1e0d-41a9-9aa5-7fd4c8d629e8",
        "colab": {
          "base_uri": "https://localhost:8080/",
          "height": 34
        }
      },
      "source": [
        "import tensorflow.keras as keras\n",
        "import numpy as np\n",
        "from sklearn.utils import shuffle\n",
        "from sklearn.model_selection import train_test_split\n",
        "\n",
        "features, labels = shuffle(features, labels)\n",
        "\n",
        "train_features, test_features, train_labels, test_labels = train_test_split(features, labels, random_state=0, test_size=0.1)\n",
        "\n",
        "train_features = train_features.reshape(train_features.shape[0], 28, 28, 1)\n",
        "test_features = test_features.reshape(test_features.shape[0], 28, 28, 1)\n",
        "\n",
        "train_features = train_features.astype('float32')\n",
        "test_features = test_features.astype('float32')\n",
        "\n",
        "train_features = train_features / 255.0\n",
        "test_features = test_features / 255.0\n",
        "\n",
        "\n",
        "train_labels = keras.utils.to_categorical(train_labels, num_classes)\n",
        "test_labels = keras.utils.to_categorical(test_labels, num_classes)\n",
        "\n",
        "print(train_features.shape)"
      ],
      "execution_count": 5,
      "outputs": [
        {
          "output_type": "stream",
          "text": [
            "(432000, 28, 28, 1)\n"
          ],
          "name": "stdout"
        }
      ]
    },
    {
      "cell_type": "code",
      "metadata": {
        "id": "pNyqbe32QqDZ",
        "colab_type": "code",
        "colab": {}
      },
      "source": [
        "from tensorflow.keras.models import Sequential\n",
        "from tensorflow.keras.layers import Conv2D, MaxPooling2D, Dropout, Flatten, Dense\n",
        "\n",
        "model = Sequential([\n",
        "    Conv2D(32, (5,5), input_shape=(28, 28, 1), activation='relu'),\n",
        "    Conv2D(32, (5, 5), activation='relu'),\n",
        "    MaxPooling2D(pool_size=(2, 2), strides=(2, 2), padding='same'),\n",
        "    Dropout(0.25),\n",
        "                             \n",
        "    MaxPooling2D(pool_size=(2, 2), strides=(2, 2), padding='same'),\n",
        "    Conv2D(64, (5, 5), activation='relu'),\n",
        "    MaxPooling2D(pool_size=(2, 2), strides=(2, 2), padding='same'),\n",
        "\n",
        "    Flatten(),\n",
        "    Dense(512, activation='relu'),\n",
        "    Dropout(0.5),\n",
        "    Dense(128, activation='relu'),\n",
        "    Dropout(0.5),\n",
        "    Dense(num_classes, activation='softmax'),\n",
        "\n",
        "])"
      ],
      "execution_count": 0,
      "outputs": []
    },
    {
      "cell_type": "code",
      "metadata": {
        "id": "5qBumUsEUm_Q",
        "colab_type": "code",
        "colab": {}
      },
      "source": [
        "from tensorflow.keras.models import Sequential\n",
        "from tensorflow.keras.layers import Conv2D, MaxPooling2D, Dropout, Flatten, Dense, Convolution2D\n",
        "\n",
        "model = Sequential([\n",
        "    Convolution2D(16, (3, 3), padding='same', input_shape=(28, 28, 1), activation='relu'),\n",
        "    MaxPooling2D(pool_size=(2, 2)),\n",
        "    Convolution2D(32, (3, 3), padding='same', activation= 'relu'),\n",
        "    MaxPooling2D(pool_size=(2, 2)),\n",
        "    Convolution2D(64, (3, 3), padding='same', activation= 'relu'),\n",
        "    MaxPooling2D(pool_size =(2,2)),\n",
        "    Flatten(),\n",
        "    Dense(128, activation='relu'),\n",
        "    Dense(num_classes, activation='softmax'),\n",
        "])"
      ],
      "execution_count": 0,
      "outputs": []
    },
    {
      "cell_type": "code",
      "metadata": {
        "id": "9qNPLLMCQ7zZ",
        "colab_type": "code",
        "colab": {}
      },
      "source": [
        "metrics=['top_k_categorical_accuracy']\n",
        "# metrics=['accuracy']\n",
        "\n",
        "model.compile(loss='categorical_crossentropy', optimizer='Adam', metrics=metrics)"
      ],
      "execution_count": 0,
      "outputs": []
    },
    {
      "cell_type": "code",
      "metadata": {
        "id": "dTDSdB0tSE0J",
        "colab_type": "code",
        "outputId": "e47c33a9-f900-41eb-a4b4-b4ca5782b6e7",
        "colab": {
          "base_uri": "https://localhost:8080/",
          "height": 714
        }
      },
      "source": [
        "model.fit(train_features, train_labels, validation_data=(test_features, test_labels), epochs=20, batch_size=64)"
      ],
      "execution_count": 9,
      "outputs": [
        {
          "output_type": "stream",
          "text": [
            "Epoch 1/20\n",
            "6750/6750 [==============================] - 23s 3ms/step - loss: 1.6683 - top_k_categorical_accuracy: 0.8213 - val_loss: 1.3626 - val_top_k_categorical_accuracy: 0.8742\n",
            "Epoch 2/20\n",
            "6750/6750 [==============================] - 22s 3ms/step - loss: 1.2804 - top_k_categorical_accuracy: 0.8848 - val_loss: 1.2419 - val_top_k_categorical_accuracy: 0.8899\n",
            "Epoch 3/20\n",
            "6750/6750 [==============================] - 22s 3ms/step - loss: 1.1829 - top_k_categorical_accuracy: 0.8978 - val_loss: 1.1828 - val_top_k_categorical_accuracy: 0.8963\n",
            "Epoch 4/20\n",
            "6750/6750 [==============================] - 22s 3ms/step - loss: 1.1283 - top_k_categorical_accuracy: 0.9038 - val_loss: 1.1690 - val_top_k_categorical_accuracy: 0.8981\n",
            "Epoch 5/20\n",
            "6750/6750 [==============================] - 22s 3ms/step - loss: 1.0924 - top_k_categorical_accuracy: 0.9082 - val_loss: 1.1513 - val_top_k_categorical_accuracy: 0.9009\n",
            "Epoch 6/20\n",
            "6750/6750 [==============================] - 22s 3ms/step - loss: 1.0664 - top_k_categorical_accuracy: 0.9118 - val_loss: 1.1264 - val_top_k_categorical_accuracy: 0.9036\n",
            "Epoch 7/20\n",
            "6750/6750 [==============================] - 23s 3ms/step - loss: 1.0474 - top_k_categorical_accuracy: 0.9140 - val_loss: 1.1289 - val_top_k_categorical_accuracy: 0.9021\n",
            "Epoch 8/20\n",
            "6750/6750 [==============================] - 22s 3ms/step - loss: 1.0301 - top_k_categorical_accuracy: 0.9161 - val_loss: 1.1052 - val_top_k_categorical_accuracy: 0.9047\n",
            "Epoch 9/20\n",
            "6750/6750 [==============================] - 22s 3ms/step - loss: 1.0171 - top_k_categorical_accuracy: 0.9172 - val_loss: 1.1039 - val_top_k_categorical_accuracy: 0.9066\n",
            "Epoch 10/20\n",
            "6750/6750 [==============================] - 22s 3ms/step - loss: 1.0071 - top_k_categorical_accuracy: 0.9187 - val_loss: 1.0957 - val_top_k_categorical_accuracy: 0.9060\n",
            "Epoch 11/20\n",
            "6750/6750 [==============================] - 22s 3ms/step - loss: 0.9977 - top_k_categorical_accuracy: 0.9194 - val_loss: 1.1116 - val_top_k_categorical_accuracy: 0.9057\n",
            "Epoch 12/20\n",
            "6750/6750 [==============================] - 22s 3ms/step - loss: 0.9899 - top_k_categorical_accuracy: 0.9206 - val_loss: 1.1169 - val_top_k_categorical_accuracy: 0.9037\n",
            "Epoch 13/20\n",
            "6750/6750 [==============================] - 22s 3ms/step - loss: 0.9831 - top_k_categorical_accuracy: 0.9214 - val_loss: 1.1083 - val_top_k_categorical_accuracy: 0.9055\n",
            "Epoch 14/20\n",
            "6750/6750 [==============================] - 22s 3ms/step - loss: 0.9763 - top_k_categorical_accuracy: 0.9227 - val_loss: 1.1175 - val_top_k_categorical_accuracy: 0.9048\n",
            "Epoch 15/20\n",
            "6750/6750 [==============================] - 22s 3ms/step - loss: 0.9712 - top_k_categorical_accuracy: 0.9230 - val_loss: 1.1191 - val_top_k_categorical_accuracy: 0.9039\n",
            "Epoch 16/20\n",
            "6750/6750 [==============================] - 22s 3ms/step - loss: 0.9658 - top_k_categorical_accuracy: 0.9236 - val_loss: 1.1012 - val_top_k_categorical_accuracy: 0.9057\n",
            "Epoch 17/20\n",
            "6750/6750 [==============================] - 22s 3ms/step - loss: 0.9615 - top_k_categorical_accuracy: 0.9239 - val_loss: 1.1253 - val_top_k_categorical_accuracy: 0.9048\n",
            "Epoch 18/20\n",
            "6750/6750 [==============================] - 22s 3ms/step - loss: 0.9576 - top_k_categorical_accuracy: 0.9246 - val_loss: 1.1125 - val_top_k_categorical_accuracy: 0.9048\n",
            "Epoch 19/20\n",
            "6750/6750 [==============================] - 22s 3ms/step - loss: 0.9539 - top_k_categorical_accuracy: 0.9251 - val_loss: 1.1120 - val_top_k_categorical_accuracy: 0.9056\n",
            "Epoch 20/20\n",
            "6750/6750 [==============================] - 22s 3ms/step - loss: 0.9500 - top_k_categorical_accuracy: 0.9249 - val_loss: 1.1228 - val_top_k_categorical_accuracy: 0.9050\n"
          ],
          "name": "stdout"
        },
        {
          "output_type": "execute_result",
          "data": {
            "text/plain": [
              "<tensorflow.python.keras.callbacks.History at 0x7fc97002a160>"
            ]
          },
          "metadata": {
            "tags": []
          },
          "execution_count": 9
        }
      ]
    },
    {
      "cell_type": "code",
      "metadata": {
        "id": "Xo3YIU5uSMjW",
        "colab_type": "code",
        "colab": {
          "base_uri": "https://localhost:8080/",
          "height": 51
        },
        "outputId": "53e680da-c9d8-4931-c848-7a42df99c9a6"
      },
      "source": [
        "loss, accuracy = model.evaluate(test_features, test_labels)\n",
        "print(\"loss: {}, accuracy: {}\".format(loss, accuracy))"
      ],
      "execution_count": 10,
      "outputs": [
        {
          "output_type": "stream",
          "text": [
            "1500/1500 [==============================] - 3s 2ms/step - loss: 1.1228 - top_k_categorical_accuracy: 0.9050\n",
            "loss: 1.1228314638137817, accuracy: 0.9050416946411133\n"
          ],
          "name": "stdout"
        }
      ]
    },
    {
      "cell_type": "code",
      "metadata": {
        "id": "ELSHSsQ0nvRB",
        "colab_type": "code",
        "colab": {}
      },
      "source": [
        "!mkdir model"
      ],
      "execution_count": 0,
      "outputs": []
    },
    {
      "cell_type": "code",
      "metadata": {
        "id": "sAgZo4TSSNSQ",
        "colab_type": "code",
        "colab": {}
      },
      "source": [
        "model.save(\"model/model.h5\")"
      ],
      "execution_count": 0,
      "outputs": []
    },
    {
      "cell_type": "code",
      "metadata": {
        "id": "e8cCTNKnSQog",
        "colab_type": "code",
        "colab": {}
      },
      "source": [
        "with open(\"model/classes.txt\", mode=\"w\") as f:\n",
        "  for class_name in class_names:\n",
        "    f.write(class_name)\n",
        "    f.write(\"\\n\")"
      ],
      "execution_count": 0,
      "outputs": []
    }
  ]
}